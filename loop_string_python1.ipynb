{
 "cells": [
  {
   "cell_type": "markdown",
   "metadata": {},
   "source": [
    "# Loops"
   ]
  },
  {
   "cell_type": "markdown",
   "metadata": {},
   "source": [
    "### While loop"
   ]
  },
  {
   "cell_type": "markdown",
   "metadata": {},
   "source": [
    "Syntax\n",
    "```python\n",
    "while CONDITION:\n",
    "    ACTION\n",
    "```"
   ]
  },
  {
   "cell_type": "code",
   "execution_count": null,
   "metadata": {},
   "outputs": [],
   "source": [
    "while True:\n",
    "    print(\"Hello\") # run endlessly"
   ]
  },
  {
   "cell_type": "code",
   "execution_count": 6,
   "metadata": {},
   "outputs": [
    {
     "name": "stdout",
     "output_type": "stream",
     "text": [
      "1\n",
      "2\n",
      "3\n",
      "4\n",
      "5\n",
      "6\n",
      "7\n",
      "8\n",
      "9\n",
      "10\n"
     ]
    }
   ],
   "source": [
    "# 1,2,3,4,5,6,7,8,9,10\n",
    "\n",
    "number = 1\n",
    "while number <= 10:\n",
    "    print(number)\n",
    "    number += 1     # number = number + 1"
   ]
  },
  {
   "cell_type": "code",
   "execution_count": 8,
   "metadata": {},
   "outputs": [
    {
     "name": "stdout",
     "output_type": "stream",
     "text": [
      "2\n",
      "4\n",
      "6\n",
      "8\n",
      "10\n",
      "12\n",
      "14\n",
      "16\n",
      "18\n",
      "20\n"
     ]
    }
   ],
   "source": [
    "# 2,4,6,8,...,20\n",
    "number = 2\n",
    "while number <= 20:\n",
    "    print(number)\n",
    "    number += 2"
   ]
  },
  {
   "cell_type": "code",
   "execution_count": 14,
   "metadata": {},
   "outputs": [
    {
     "name": "stdout",
     "output_type": "stream",
     "text": [
      "2\n",
      "4\n",
      "6\n",
      "8\n",
      "10\n",
      "12\n",
      "14\n",
      "16\n",
      "18\n",
      "20\n"
     ]
    }
   ],
   "source": [
    "number = 1\n",
    "while number <= 20:\n",
    "    if number % 2 == 0:\n",
    "        print(number)\n",
    "    else:\n",
    "        number += 1"
   ]
  },
  {
   "cell_type": "markdown",
   "metadata": {},
   "source": [
    "### break, continue, pass"
   ]
  },
  {
   "cell_type": "code",
   "execution_count": 24,
   "metadata": {},
   "outputs": [
    {
     "name": "stdout",
     "output_type": "stream",
     "text": [
      "1\n",
      "2\n",
      "HELLO\n",
      "3\n",
      "4\n",
      "5\n",
      "6\n"
     ]
    }
   ],
   "source": [
    "number = 1\n",
    "while True:\n",
    "    print(number)\n",
    "    if number % 3 == 0 and number % 2 == 0:\n",
    "        break\n",
    "    # if number == 2:\n",
    "    #     continue\n",
    "    # if number == 2:\n",
    "    #     pass\n",
    "    number += 1"
   ]
  },
  {
   "cell_type": "code",
   "execution_count": 26,
   "metadata": {},
   "outputs": [],
   "source": [
    "if True:\n",
    "    pass"
   ]
  },
  {
   "cell_type": "markdown",
   "metadata": {},
   "source": [
    "### For loop"
   ]
  },
  {
   "cell_type": "markdown",
   "metadata": {},
   "source": [
    "range(start, stop, step)"
   ]
  },
  {
   "cell_type": "code",
   "execution_count": null,
   "metadata": {},
   "outputs": [],
   "source": [
    "range(6) # 0,1,2,3,4,5\n",
    "range(10) # 0-9\n",
    "range(1) # 0 \n",
    "range(0) # Nothing\n",
    "range(-3) # Nothing\n",
    "\n",
    "range(2, 6) # 2,3,4,5\n",
    "range(-1, 3) # -1, 0, 1, 2\n",
    "range(5, 2) # Nothing\n",
    "\n",
    "range(3, 9, 2) # 3,5,7\n",
    "range(-3, 7, 3) # -3, 0, 3, 6\n",
    "range(10, -1, -2) # 10,8,6,4,2,0"
   ]
  },
  {
   "cell_type": "markdown",
   "metadata": {},
   "source": [
    "```python\n",
    "for variable_name in range(SOMETHING):\n",
    "    DO_SOMETHING\n",
    "```"
   ]
  },
  {
   "cell_type": "code",
   "execution_count": 29,
   "metadata": {},
   "outputs": [
    {
     "name": "stdout",
     "output_type": "stream",
     "text": [
      "20\n",
      "14\n",
      "8\n"
     ]
    }
   ],
   "source": [
    "for number in range(20, 5, -3):\n",
    "    if number % 2 == 0:\n",
    "        print(number)"
   ]
  },
  {
   "cell_type": "markdown",
   "metadata": {},
   "source": [
    "Print square of numbers from 1-10 \n",
    "1 4 9 16 25 36 ... 100 => 1 ** 2, 2 ** 2, 3 ** 2, ..., 10 ** 2"
   ]
  },
  {
   "cell_type": "code",
   "execution_count": 33,
   "metadata": {},
   "outputs": [
    {
     "name": "stdout",
     "output_type": "stream",
     "text": [
      "1 1\n",
      "2 4\n",
      "3 9\n",
      "4 16\n",
      "5 25\n",
      "6 36\n",
      "7 49\n",
      "8 64\n",
      "9 81\n",
      "10 100\n"
     ]
    }
   ],
   "source": [
    "# for base_num in range(1, 11):\n",
    "#     print(base_num ** 2)\n",
    "    \n",
    "# for base_num in range(10):\n",
    "#     print((base_num + 1) ** 2)\n",
    "\n",
    "for num in range(1, 11):\n",
    "    square_num = num ** 2\n",
    "    print(num, square_num)"
   ]
  },
  {
   "cell_type": "markdown",
   "metadata": {},
   "source": [
    "## Nested Loop"
   ]
  },
  {
   "cell_type": "code",
   "execution_count": null,
   "metadata": {},
   "outputs": [],
   "source": [
    "while True:\n",
    "    for i in range(10):\n",
    "        while True:\n",
    "            if True:\n",
    "                pass\n",
    "            elif True:\n",
    "                pass"
   ]
  },
  {
   "cell_type": "code",
   "execution_count": 1,
   "metadata": {},
   "outputs": [
    {
     "name": "stdout",
     "output_type": "stream",
     "text": [
      "0 0\n",
      "0 1\n",
      "0 2\n",
      "0 3\n",
      "0 4\n",
      "0 5\n",
      "1 0\n",
      "1 1\n",
      "1 2\n",
      "1 3\n",
      "1 4\n",
      "1 5\n",
      "2 0\n",
      "2 1\n",
      "2 2\n",
      "2 3\n",
      "2 4\n",
      "2 5\n",
      "3 0\n",
      "3 1\n",
      "3 2\n",
      "3 3\n",
      "3 4\n",
      "3 5\n",
      "4 0\n",
      "4 1\n",
      "4 2\n",
      "4 3\n",
      "4 4\n",
      "4 5\n"
     ]
    }
   ],
   "source": [
    "for first_number in range(5): # 0-4\n",
    "    for second_number in range(6): # 0-5\n",
    "        print(first_number, second_number)"
   ]
  },
  {
   "cell_type": "code",
   "execution_count": 2,
   "metadata": {},
   "outputs": [
    {
     "name": "stdout",
     "output_type": "stream",
     "text": [
      "2 2\n",
      "2 4\n",
      "3 2\n",
      "3 4\n",
      "4 2\n",
      "4 4\n"
     ]
    }
   ],
   "source": [
    "for i in range(2, 5): # 2,3,4\n",
    "    for j in range(2, 6, 2): # 2,4\n",
    "        print(i, j)\n",
    "        "
   ]
  },
  {
   "cell_type": "code",
   "execution_count": 9,
   "metadata": {},
   "outputs": [
    {
     "name": "stdout",
     "output_type": "stream",
     "text": [
      "2 1\n",
      "3 3\n",
      "4 1\n",
      "5 3\n"
     ]
    }
   ],
   "source": [
    "i = 2\n",
    "while i < 5:\n",
    "    for j in range(1, 5, 2):\n",
    "        print(i, j)\n",
    "        i += 1"
   ]
  },
  {
   "cell_type": "code",
   "execution_count": 10,
   "metadata": {},
   "outputs": [
    {
     "name": "stdout",
     "output_type": "stream",
     "text": [
      "2\n",
      "3\n",
      "6\n",
      "4\n",
      "8\n",
      "12\n"
     ]
    }
   ],
   "source": [
    "for i in range(5):\n",
    "    for j in range(1, i):  \n",
    "        print(i * j)"
   ]
  },
  {
   "cell_type": "markdown",
   "metadata": {},
   "source": [
    "# String"
   ]
  },
  {
   "cell_type": "code",
   "execution_count": null,
   "metadata": {},
   "outputs": [],
   "source": [
    "empty_string = \"\"\n",
    "empty_string = ''\n",
    "empty_string = \"\"\"\"\"\" # multi-line string\n",
    "empty_string = str()\n",
    "\n",
    "s = \"Jedi loves Ve\"\n",
    "s = \"\"\"\n",
    "Jedi loves Ve\n",
    "Jedi loves Aomsub\n",
    "Jedi loves Soda\n",
    "Jedi loves Pizza\n",
    "ジェダイは女の子が大好きです。\n",
    "\"\"\"\n",
    "\n",
    "my_sentence = 'I am a boy'\n",
    "# my_sentence = 'I'm a boy' # NOT POSSIBLE\n",
    "my_sentence = \"I'm a boy\"\n",
    "quote = \"She said that \\\"I'm a boy\\\"\""
   ]
  },
  {
   "cell_type": "code",
   "execution_count": 19,
   "metadata": {},
   "outputs": [
    {
     "data": {
      "text/plain": [
       "'Hello, Vetit'"
      ]
     },
     "execution_count": 19,
     "metadata": {},
     "output_type": "execute_result"
    }
   ],
   "source": [
    "s1 = \"Hello, \"\n",
    "s2 = \"Vetit\"\n",
    "# \"Hello, Vetit\"\n",
    "s1 + s2"
   ]
  },
  {
   "cell_type": "code",
   "execution_count": 9,
   "metadata": {},
   "outputs": [
    {
     "data": {
      "text/plain": [
       "'PalmPalmPalm'"
      ]
     },
     "execution_count": 9,
     "metadata": {},
     "output_type": "execute_result"
    }
   ],
   "source": [
    "s3 = \"Palm\"\n",
    "s4 = s3 * 3 # s3 + s3 + s3\n",
    "s4"
   ]
  },
  {
   "cell_type": "code",
   "execution_count": 28,
   "metadata": {},
   "outputs": [
    {
     "data": {
      "text/plain": [
       "12"
      ]
     },
     "execution_count": 28,
     "metadata": {},
     "output_type": "execute_result"
    }
   ],
   "source": [
    "len(s4)"
   ]
  },
  {
   "cell_type": "markdown",
   "metadata": {},
   "source": [
    "### INDEXING"
   ]
  },
  {
   "cell_type": "code",
   "execution_count": 40,
   "metadata": {},
   "outputs": [
    {
     "data": {
      "text/plain": [
       "'C'"
      ]
     },
     "execution_count": 40,
     "metadata": {},
     "output_type": "execute_result"
    }
   ],
   "source": [
    "s = \"Hello, world!\"\n",
    "s = \"Bangkok, Thailand: 100C\"\n",
    "s[2]\n",
    "s[-1]"
   ]
  },
  {
   "cell_type": "markdown",
   "metadata": {},
   "source": [
    "### Slicing"
   ]
  },
  {
   "cell_type": "code",
   "execution_count": 75,
   "metadata": {},
   "outputs": [
    {
     "data": {
      "text/plain": [
       "'I love cock!'"
      ]
     },
     "execution_count": 75,
     "metadata": {},
     "output_type": "execute_result"
    }
   ],
   "source": [
    "s = \"I love peacock!\"\n",
    "s[1:8] # 1-7 ~ range(1,8)\n",
    "s[1:8:2] # 1,3,5,7\n",
    "s[-3:-10:-2] # -3, -5, -7, -9\n",
    "s[:6] # 0,1,2,3,4,5\n",
    "s[9:]\n",
    "s[:]\n",
    "s[::2]\n",
    "s[::-1]\n",
    "s[-15:15]\n",
    "s1 = s[:6]\n",
    "s2 = s[10:]\n",
    "s1 + \" \" + s2"
   ]
  },
  {
   "cell_type": "markdown",
   "metadata": {},
   "source": [
    "## f-string (String Format)"
   ]
  },
  {
   "cell_type": "code",
   "execution_count": 15,
   "metadata": {},
   "outputs": [
    {
     "name": "stdout",
     "output_type": "stream",
     "text": [
      "Hello, Vetit. Your age is 22.\n",
      "Hello, Vetit. Your age is 22.\n"
     ]
    }
   ],
   "source": [
    "user_name = input()\n",
    "age = input()\n",
    "\n",
    "greeting_msg = \"Hello, \" + user_name + \". Your age is \" + age + \".\"\n",
    "greeting_msg_formatted = f\"Hello, {user_name}. Your age is {age}.\"\n",
    "\n",
    "print(greeting_msg)\n",
    "print(greeting_msg_formatted)"
   ]
  },
  {
   "cell_type": "markdown",
   "metadata": {},
   "source": [
    "## Spliting"
   ]
  },
  {
   "cell_type": "code",
   "execution_count": 16,
   "metadata": {},
   "outputs": [
    {
     "data": {
      "text/plain": [
       "['Hello,', 'Vetit.', 'Your', 'age', 'is', '22.']"
      ]
     },
     "execution_count": 16,
     "metadata": {},
     "output_type": "execute_result"
    }
   ],
   "source": [
    "greeting_msg_formatted.split()"
   ]
  },
  {
   "cell_type": "code",
   "execution_count": 30,
   "metadata": {},
   "outputs": [
    {
     "data": {
      "text/plain": [
       "['I love b', 'n', 'n', '']"
      ]
     },
     "execution_count": 30,
     "metadata": {},
     "output_type": "execute_result"
    }
   ],
   "source": [
    "s = \"I love banana\"\n",
    "s.split(\"a\")"
   ]
  },
  {
   "cell_type": "markdown",
   "metadata": {},
   "source": [
    "## in / not in operators"
   ]
  },
  {
   "cell_type": "code",
   "execution_count": 27,
   "metadata": {},
   "outputs": [
    {
     "name": "stdout",
     "output_type": "stream",
     "text": [
      "True\n",
      "False\n",
      "True\n",
      "False\n",
      "False\n"
     ]
    }
   ],
   "source": [
    "s = \"I love peacock!\"\n",
    "print(\"c\" in s)\n",
    "print(\"  \" in s)\n",
    "print(\"ov\" in s)\n",
    "print(\"ep\" in s)\n",
    "print(\"oe\" in s)"
   ]
  },
  {
   "cell_type": "code",
   "execution_count": 29,
   "metadata": {},
   "outputs": [
    {
     "name": "stdout",
     "output_type": "stream",
     "text": [
      "YAY\n",
      "HELLO\n"
     ]
    }
   ],
   "source": [
    "s = \"I love peacock!\"\n",
    "if \"o\" in s:\n",
    "    print(\"YAY\")\n",
    "elif \"c\" in s:\n",
    "    print(\"SKYE\")\n",
    "else:\n",
    "    print(\"Palm\" * 5)\n",
    "\n",
    "\n",
    "if \" \" not in s or s[4] == \"v\":\n",
    "    print(\"HELLO\")\n",
    "else:\n",
    "    print(\"WORLD!\")"
   ]
  },
  {
   "cell_type": "code",
   "execution_count": 39,
   "metadata": {},
   "outputs": [
    {
     "name": "stdout",
     "output_type": "stream",
     "text": [
      "2\n"
     ]
    }
   ],
   "source": [
    "s = \"i love peacock!\"\n",
    "result = s.count(\"c\")\n",
    "print(result)"
   ]
  },
  {
   "cell_type": "code",
   "execution_count": 49,
   "metadata": {},
   "outputs": [
    {
     "data": {
      "text/plain": [
       "'I LIVE PEACICK!'"
      ]
     },
     "execution_count": 49,
     "metadata": {},
     "output_type": "execute_result"
    }
   ],
   "source": [
    "s.capitalize()\n",
    "s.upper()\n",
    "s.lower()\n",
    "s = \"I LOVE PEACOCK!\"\n",
    "s.isupper()\n",
    "new_string = s.replace(\"O\", \"I\")"
   ]
  },
  {
   "cell_type": "markdown",
   "metadata": {},
   "source": [
    "## Loop through a string"
   ]
  },
  {
   "cell_type": "markdown",
   "metadata": {},
   "source": [
    "Loop by character"
   ]
  },
  {
   "cell_type": "code",
   "execution_count": 52,
   "metadata": {},
   "outputs": [
    {
     "name": "stdout",
     "output_type": "stream",
     "text": [
      "i\n",
      " \n",
      "l\n",
      "o\n",
      "v\n",
      "e\n",
      " \n",
      "p\n",
      "e\n",
      "a\n",
      "c\n",
      "o\n",
      "c\n",
      "k\n",
      "!\n"
     ]
    }
   ],
   "source": [
    "s = \"i love peacock!\"\n",
    "for character in s:\n",
    "    print(character)"
   ]
  },
  {
   "cell_type": "markdown",
   "metadata": {},
   "source": [
    "Loop by index"
   ]
  },
  {
   "cell_type": "code",
   "execution_count": 64,
   "metadata": {},
   "outputs": [
    {
     "name": "stdout",
     "output_type": "stream",
     "text": [
      "0 i\n",
      "1  \n",
      "2 l\n",
      "3 o\n",
      "4 v\n"
     ]
    }
   ],
   "source": [
    "s = \"i lov\"\n",
    "for i in range(len(s)):\n",
    "    print(s[i])"
   ]
  },
  {
   "cell_type": "markdown",
   "metadata": {},
   "source": [
    "Enumerate"
   ]
  },
  {
   "cell_type": "code",
   "execution_count": 70,
   "metadata": {},
   "outputs": [
    {
     "name": "stdout",
     "output_type": "stream",
     "text": [
      "i 0\n",
      "  1\n",
      "l 2\n",
      "o 3\n",
      "v 4\n",
      "e 5\n",
      "  6\n",
      "p 7\n",
      "e 8\n",
      "a 9\n",
      "c 10\n",
      "o 11\n",
      "c 12\n",
      "k 13\n",
      "! 14\n"
     ]
    }
   ],
   "source": [
    "s = \"i love peacock!\"\n",
    "for i, character in enumerate(s):\n",
    "    print(i, character)"
   ]
  },
  {
   "cell_type": "code",
   "execution_count": null,
   "metadata": {},
   "outputs": [],
   "source": []
  }
 ],
 "metadata": {
  "kernelspec": {
   "display_name": "hs_teaching_env",
   "language": "python",
   "name": "python3"
  },
  "language_info": {
   "codemirror_mode": {
    "name": "ipython",
    "version": 3
   },
   "file_extension": ".py",
   "mimetype": "text/x-python",
   "name": "python",
   "nbconvert_exporter": "python",
   "pygments_lexer": "ipython3",
   "version": "3.12.4"
  }
 },
 "nbformat": 4,
 "nbformat_minor": 2
}
