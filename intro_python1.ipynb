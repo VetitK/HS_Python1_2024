{
 "cells": [
  {
   "cell_type": "markdown",
   "metadata": {},
   "source": [
    "## Commenting"
   ]
  },
  {
   "cell_type": "code",
   "execution_count": 7,
   "metadata": {},
   "outputs": [
    {
     "name": "stdout",
     "output_type": "stream",
     "text": [
      "hello\n",
      "from the other sideeeee\n"
     ]
    },
    {
     "data": {
      "text/plain": [
       "'\\nmultiline comment\\nmultiline comment2\\n'"
      ]
     },
     "execution_count": 7,
     "metadata": {},
     "output_type": "execute_result"
    }
   ],
   "source": [
    "print(\"hello\") # in-line comment\n",
    "print(\"from the other sideeeee\")\n",
    "\n",
    "\"\"\"\n",
    "multiline comment\n",
    "multiline comment2\n",
    "multiline comment2\n",
    "multiline comment2\n",
    "multiline comment2\n",
    "multiline comment2\n",
    "\"\"\""
   ]
  },
  {
   "cell_type": "code",
   "execution_count": 14,
   "metadata": {},
   "outputs": [
    {
     "name": "stdout",
     "output_type": "stream",
     "text": [
      "Hello world\n",
      "Hello World ! 123\n",
      "Hello-World-!-123\n",
      "Hello\n",
      "World\n",
      "!\n",
      "123\n"
     ]
    }
   ],
   "source": [
    "print(\"Hello world\")\n",
    "print(\"Hello\", \"World\", \"!\", \"123\")\n",
    "print(\"Hello\", \"World\", \"!\", \"123\", sep=\"-\")\n",
    "print(\"Hello\", \"World\", \"!\", \"123\", sep=\"\\n\")"
   ]
  },
  {
   "cell_type": "markdown",
   "metadata": {},
   "source": [
    "## Data type"
   ]
  },
  {
   "cell_type": "markdown",
   "metadata": {},
   "source": [
    "1. integer - int\n",
    "2. floating point - float\n",
    "3. string - str\n",
    "4. boolean - bool\n",
    "5. Nonetype - None"
   ]
  },
  {
   "cell_type": "code",
   "execution_count": 17,
   "metadata": {},
   "outputs": [
    {
     "data": {
      "text/plain": [
       "(1.5, -2.4, 3.14, 0.0)"
      ]
     },
     "execution_count": 17,
     "metadata": {},
     "output_type": "execute_result"
    }
   ],
   "source": [
    "# int\n",
    "1, 2, 0, -1, -5, -0\n",
    "int()\n",
    "\n",
    "# float\n",
    "1.5, -2.4, 3.14, 0.0000000000000000000000\n",
    "float()\n",
    "\n",
    "# string\n",
    "\"dfldsojghdfoiujjfdsojcsalk9045u40iofndlj\"\n",
    "'fldsn≤fdsnmfdnjsjdd'\n",
    "\"\"\"\n",
    "fdslfjlkds\n",
    "fdslnfljds\n",
    "fndaknjfdlfue83y8\n",
    "\"\"\"\n",
    "str()\n",
    "\n",
    "# boolean\n",
    "True, False\n",
    "bool()\n",
    "\n",
    "# Nonetype\n",
    "None"
   ]
  },
  {
   "cell_type": "markdown",
   "metadata": {},
   "source": [
    "## Type Checking"
   ]
  },
  {
   "cell_type": "code",
   "execution_count": 22,
   "metadata": {},
   "outputs": [
    {
     "name": "stdout",
     "output_type": "stream",
     "text": [
      "<class 'float'>\n"
     ]
    },
    {
     "data": {
      "text/plain": [
       "False"
      ]
     },
     "execution_count": 22,
     "metadata": {},
     "output_type": "execute_result"
    }
   ],
   "source": [
    "print(type(0.0))\n",
    "\n",
    "isinstance(-1, int)"
   ]
  },
  {
   "cell_type": "code",
   "execution_count": 25,
   "metadata": {},
   "outputs": [
    {
     "data": {
      "text/plain": [
       "True"
      ]
     },
     "execution_count": 25,
     "metadata": {},
     "output_type": "execute_result"
    }
   ],
   "source": [
    "isinstance(False, int)"
   ]
  },
  {
   "cell_type": "markdown",
   "metadata": {},
   "source": [
    "## Day3"
   ]
  },
  {
   "cell_type": "code",
   "execution_count": 4,
   "metadata": {},
   "outputs": [
    {
     "name": "stdout",
     "output_type": "stream",
     "text": [
      "None\n"
     ]
    }
   ],
   "source": [
    "age = 22\n",
    "firstname = \"Vetit\"\n",
    "is_odd = False\n",
    "\n",
    "age = 23\n",
    "age = None\n",
    "print(age)"
   ]
  },
  {
   "cell_type": "code",
   "execution_count": null,
   "metadata": {},
   "outputs": [],
   "source": [
    "a = 1\n",
    "b = 2\n",
    "\n",
    "first_number = 1\n",
    "second_number = 2\n",
    "date_of_birth_of_a_president_of_harbour_space_utcc = 1960 # bad\n"
   ]
  },
  {
   "cell_type": "code",
   "execution_count": null,
   "metadata": {},
   "outputs": [],
   "source": [
    "name = \"fjdl\" # OK!\n",
    "Age = 17 # bad\n",
    "first_number = 1 # OK!\n",
    "# 1var = 3 # BAD!\n",
    "# _1var = 2 # BAD!\n",
    "\n",
    "# reserved variables (should not use!)\n",
    "False "
   ]
  },
  {
   "cell_type": "markdown",
   "metadata": {},
   "source": [
    "## Input"
   ]
  },
  {
   "cell_type": "code",
   "execution_count": 9,
   "metadata": {},
   "outputs": [
    {
     "name": "stdout",
     "output_type": "stream",
     "text": [
      "Hello, welcome 11\n"
     ]
    }
   ],
   "source": [
    "name_input = input(\"Please enter your name: \")\n",
    "print(\"Hello, welcome\", name_input)"
   ]
  },
  {
   "cell_type": "code",
   "execution_count": 20,
   "metadata": {},
   "outputs": [
    {
     "name": "stdout",
     "output_type": "stream",
     "text": [
      "-2 <class 'int'>\n"
     ]
    }
   ],
   "source": [
    "# int()\n",
    "a = int(\"4\")\n",
    "a = int(\"-1\")\n",
    "a = int(True)\n",
    "# a = int(\"True\")\n",
    "a = int(2.4)\n",
    "a = int(-2.4)\n",
    "# a = int(\"2.4\")\n",
    "# a = int(\"-2.4\")\n",
    "print(a, type(a))"
   ]
  },
  {
   "cell_type": "code",
   "execution_count": 27,
   "metadata": {},
   "outputs": [
    {
     "name": "stdout",
     "output_type": "stream",
     "text": [
      "0.0 <class 'float'>\n"
     ]
    }
   ],
   "source": [
    "# float()\n",
    "a = float(-2)\n",
    "a = float(\"-2\")\n",
    "a = float(\"-2.4\")\n",
    "a = float(True)\n",
    "a = float(False)\n",
    "# a = float(\"True\")\n",
    "print(a, type(a))"
   ]
  },
  {
   "cell_type": "code",
   "execution_count": 60,
   "metadata": {},
   "outputs": [
    {
     "name": "stdout",
     "output_type": "stream",
     "text": [
      "True <class 'bool'>\n"
     ]
    }
   ],
   "source": [
    "# bool()\n",
    "a = bool(1)\n",
    "a = bool(3)\n",
    "a = bool(-2)\n",
    "a = bool(0)\n",
    "a = bool(0.1)\n",
    "a = bool(0.0)\n",
    "a = bool(\"\")\n",
    "a = bool(None)\n",
    "print(a, type(a))"
   ]
  },
  {
   "cell_type": "code",
   "execution_count": 57,
   "metadata": {},
   "outputs": [
    {
     "name": "stdout",
     "output_type": "stream",
     "text": [
      "None <class 'str'>\n"
     ]
    }
   ],
   "source": [
    "# str()\n",
    "a = str(1)\n",
    "a = str(True)\n",
    "a = str(2.5)\n",
    "a = str(None)\n",
    "print(a, type(a))"
   ]
  },
  {
   "cell_type": "code",
   "execution_count": 62,
   "metadata": {},
   "outputs": [
    {
     "name": "stdout",
     "output_type": "stream",
     "text": [
      "True <class 'bool'>\n"
     ]
    }
   ],
   "source": [
    "a = bool(str(float(-2))) # \"-2.0\"\n",
    "print(a, type(a))"
   ]
  },
  {
   "cell_type": "markdown",
   "metadata": {},
   "source": [
    "# Math Operations"
   ]
  },
  {
   "cell_type": "code",
   "execution_count": 76,
   "metadata": {},
   "outputs": [
    {
     "data": {
      "text/plain": [
       "0.10000000000000053"
      ]
     },
     "execution_count": 76,
     "metadata": {},
     "output_type": "execute_result"
    }
   ],
   "source": [
    "a = 1 + 1\n",
    "a = 6 - 3\n",
    "a = 4 * 5\n",
    "a = int(6 / 3)\n",
    "a = 6 // 3\n",
    "a = 7 / 3\n",
    "a = 7 // 3\n",
    "a = 2 ** 3\n",
    "a = 7 % 3\n",
    "a = 54 % 5\n",
    "a = 32.2 % 3\n",
    "a = 10 % 3.3\n",
    "a"
   ]
  },
  {
   "cell_type": "code",
   "execution_count": 77,
   "metadata": {},
   "outputs": [
    {
     "data": {
      "text/plain": [
       "1"
      ]
     },
     "execution_count": 77,
     "metadata": {},
     "output_type": "execute_result"
    }
   ],
   "source": [
    "a = 0 ** 0\n",
    "a"
   ]
  },
  {
   "cell_type": "code",
   "execution_count": 81,
   "metadata": {},
   "outputs": [
    {
     "ename": "ZeroDivisionError",
     "evalue": "integer division or modulo by zero",
     "output_type": "error",
     "traceback": [
      "\u001b[0;31m---------------------------------------------------------------------------\u001b[0m",
      "\u001b[0;31mZeroDivisionError\u001b[0m                         Traceback (most recent call last)",
      "Cell \u001b[0;32mIn[81], line 1\u001b[0m\n\u001b[0;32m----> 1\u001b[0m \u001b[38;5;241;43m9\u001b[39;49m\u001b[43m \u001b[49m\u001b[38;5;241;43m/\u001b[39;49m\u001b[38;5;241;43m/\u001b[39;49m\u001b[43m \u001b[49m\u001b[38;5;241;43m0\u001b[39;49m\n",
      "\u001b[0;31mZeroDivisionError\u001b[0m: integer division or modulo by zero"
     ]
    }
   ],
   "source": [
    "9 / 0"
   ]
  },
  {
   "cell_type": "code",
   "execution_count": 82,
   "metadata": {},
   "outputs": [
    {
     "ename": "ZeroDivisionError",
     "evalue": "integer modulo by zero",
     "output_type": "error",
     "traceback": [
      "\u001b[0;31m---------------------------------------------------------------------------\u001b[0m",
      "\u001b[0;31mZeroDivisionError\u001b[0m                         Traceback (most recent call last)",
      "Cell \u001b[0;32mIn[82], line 1\u001b[0m\n\u001b[0;32m----> 1\u001b[0m \u001b[38;5;241;43m9\u001b[39;49m\u001b[43m \u001b[49m\u001b[38;5;241;43m%\u001b[39;49m\u001b[43m \u001b[49m\u001b[38;5;241;43m0\u001b[39;49m\n",
      "\u001b[0;31mZeroDivisionError\u001b[0m: integer modulo by zero"
     ]
    }
   ],
   "source": [
    "9 % 0"
   ]
  },
  {
   "cell_type": "code",
   "execution_count": 84,
   "metadata": {},
   "outputs": [
    {
     "data": {
      "text/plain": [
       "20.0"
      ]
     },
     "execution_count": 84,
     "metadata": {},
     "output_type": "execute_result"
    }
   ],
   "source": [
    "10.0 - 10"
   ]
  },
  {
   "cell_type": "code",
   "execution_count": 87,
   "metadata": {},
   "outputs": [
    {
     "data": {
      "text/plain": [
       "0.30000000000000004"
      ]
     },
     "execution_count": 87,
     "metadata": {},
     "output_type": "execute_result"
    }
   ],
   "source": [
    "0.1 + 0.2"
   ]
  },
  {
   "cell_type": "code",
   "execution_count": 88,
   "metadata": {},
   "outputs": [
    {
     "data": {
      "text/plain": [
       "2"
      ]
     },
     "execution_count": 88,
     "metadata": {},
     "output_type": "execute_result"
    }
   ],
   "source": [
    "7 // 3"
   ]
  },
  {
   "cell_type": "code",
   "execution_count": 89,
   "metadata": {},
   "outputs": [
    {
     "data": {
      "text/plain": [
       "1.0"
      ]
     },
     "execution_count": 89,
     "metadata": {},
     "output_type": "execute_result"
    }
   ],
   "source": [
    "2.5 // 2.5"
   ]
  },
  {
   "cell_type": "code",
   "execution_count": 90,
   "metadata": {},
   "outputs": [
    {
     "data": {
      "text/plain": [
       "1.0"
      ]
     },
     "execution_count": 90,
     "metadata": {},
     "output_type": "execute_result"
    }
   ],
   "source": [
    "2.5 // 2"
   ]
  },
  {
   "cell_type": "code",
   "execution_count": 95,
   "metadata": {},
   "outputs": [
    {
     "data": {
      "text/plain": [
       "12.0"
      ]
     },
     "execution_count": 95,
     "metadata": {},
     "output_type": "execute_result"
    }
   ],
   "source": [
    "# 12.9 -> 12.0\n",
    "float(int(12.9))\n",
    "12.9 // 1"
   ]
  },
  {
   "cell_type": "markdown",
   "metadata": {},
   "source": [
    "## Order of operations"
   ]
  },
  {
   "cell_type": "code",
   "execution_count": 96,
   "metadata": {},
   "outputs": [
    {
     "data": {
      "text/plain": [
       "-1.0"
      ]
     },
     "execution_count": 96,
     "metadata": {},
     "output_type": "execute_result"
    }
   ],
   "source": [
    "# () -> ** -> */% -> +-\n",
    "# PEMDAS\n",
    "a = (2 * 2) - (2 / 2) - (2 ** 2) # 1st way of reorganizing\n",
    "a = 2*2 - 2/2 - 2**2 # 2nd way of reorganizing\n",
    "b = 2 * 2 - 2 / 2 - 4\n",
    "c = 4 - 1.0 - 4\n",
    "d = -1.0\n"
   ]
  },
  {
   "cell_type": "markdown",
   "metadata": {},
   "source": [
    "## Variable Adjustment"
   ]
  },
  {
   "cell_type": "code",
   "execution_count": 100,
   "metadata": {},
   "outputs": [
    {
     "name": "stdout",
     "output_type": "stream",
     "text": [
      "0.5 6\n"
     ]
    }
   ],
   "source": [
    "a = 4 + 4\n",
    "b = 3 * 2\n",
    "a = a + 4\n",
    "a = b / a\n",
    "print(a, b)"
   ]
  },
  {
   "cell_type": "code",
   "execution_count": 111,
   "metadata": {},
   "outputs": [
    {
     "data": {
      "text/plain": [
       "32.0"
      ]
     },
     "execution_count": 111,
     "metadata": {},
     "output_type": "execute_result"
    }
   ],
   "source": [
    "a = 1\n",
    "a = a + 4 # SAME\n",
    "a += 4 # SAME\n",
    "a -= 3 # SAME TO a = a - 3\n",
    "a *= 2\n",
    "a /= 6 # SAME TO a = a / 6\n",
    "a **= 5\n",
    "a"
   ]
  },
  {
   "cell_type": "markdown",
   "metadata": {},
   "source": [
    "## Logical Operators"
   ]
  },
  {
   "cell_type": "code",
   "execution_count": 3,
   "metadata": {},
   "outputs": [
    {
     "data": {
      "text/plain": [
       "False"
      ]
     },
     "execution_count": 3,
     "metadata": {},
     "output_type": "execute_result"
    }
   ],
   "source": [
    "a = 5\n",
    "\n",
    "2 > 3 # False\n",
    "a < 7 # True\n",
    "a == 6\n",
    "a >= 5\n",
    "a <= 2\n",
    "a != 5\n",
    "4 > 3 > 2\n",
    "3 == 3 != 3"
   ]
  },
  {
   "cell_type": "code",
   "execution_count": 16,
   "metadata": {},
   "outputs": [
    {
     "name": "stdout",
     "output_type": "stream",
     "text": [
      "True\n"
     ]
    }
   ],
   "source": [
    "# not, and, or\n",
    "not True\n",
    "not False\n",
    "\n",
    "True and True\n",
    "False and True\n",
    "False and False\n",
    "2 > 3 and 3 > 1\n",
    "\n",
    "# Me or You go to school\n",
    "True or True\n",
    "False or True\n",
    "True or False\n",
    "False or False\n",
    "\n",
    "a = 5\n",
    "b = 6\n",
    "print(a != b-1 or b**2 > a)"
   ]
  },
  {
   "cell_type": "code",
   "execution_count": 23,
   "metadata": {},
   "outputs": [
    {
     "data": {
      "text/plain": [
       "(22, 'Vetit')"
      ]
     },
     "execution_count": 23,
     "metadata": {},
     "output_type": "execute_result"
    }
   ],
   "source": [
    "user_age = int(input())\n",
    "user_firstname = input()\n",
    "user_age, user_firstname"
   ]
  },
  {
   "cell_type": "markdown",
   "metadata": {},
   "source": [
    "## Adder Program"
   ]
  },
  {
   "cell_type": "code",
   "execution_count": 30,
   "metadata": {},
   "outputs": [
    {
     "name": "stdout",
     "output_type": "stream",
     "text": [
      "13\n"
     ]
    }
   ],
   "source": [
    "first_number = int(input(\"Enter first number: \"))\n",
    "second_number = int(input(\"Enter second number: \"))\n",
    "added_result = first_number + second_number\n",
    "print(added_result)"
   ]
  },
  {
   "cell_type": "markdown",
   "metadata": {},
   "source": [
    "## Convert Celcius to Farenheit"
   ]
  },
  {
   "cell_type": "markdown",
   "metadata": {},
   "source": [
    "30 C -> 86 F"
   ]
  },
  {
   "cell_type": "code",
   "execution_count": 34,
   "metadata": {},
   "outputs": [
    {
     "name": "stdout",
     "output_type": "stream",
     "text": [
      "68.9\n"
     ]
    }
   ],
   "source": [
    "temp_c = float(input())\n",
    "temp_f = (temp_c / 5) * 9 + 32\n",
    "print(temp_f)"
   ]
  },
  {
   "cell_type": "markdown",
   "metadata": {},
   "source": [
    "## Why naming?"
   ]
  },
  {
   "cell_type": "code",
   "execution_count": null,
   "metadata": {},
   "outputs": [],
   "source": [
    "time = int(input())\n",
    "\n",
    "if time < 9:\n",
    "    print('Good Morning!')\n",
    "elif time <= 12:\n",
    "    print('Hello')\n",
    "elif time < 17:\n",
    "    print('Good Afternoon')\n",
    "elif time < 20:\n",
    "    print('Good Evening')\n",
    "else:\n",
    "    print('Goodnight')"
   ]
  },
  {
   "cell_type": "code",
   "execution_count": null,
   "metadata": {},
   "outputs": [],
   "source": [
    "o = int(input())\n",
    "\n",
    "if o < 9:\n",
    "    print('Good Morning!')\n",
    "elif o <= 12:\n",
    "    print('Hello')\n",
    "elif o < 17:\n",
    "    print('Good Afternoon')\n",
    "elif o < 20:\n",
    "    print('Good Evening')\n",
    "else:\n",
    "    print('Goodnight')"
   ]
  },
  {
   "cell_type": "markdown",
   "metadata": {},
   "source": [
    "## Converting from Celcius to Farenheit, Kelvin, and Romer"
   ]
  },
  {
   "cell_type": "code",
   "execution_count": 36,
   "metadata": {},
   "outputs": [
    {
     "name": "stdout",
     "output_type": "stream",
     "text": [
      "C = 45.0\n",
      "F = 113.0\n",
      "R = 36.0\n",
      "K = 318.0\n"
     ]
    }
   ],
   "source": [
    "temp_celcius = float(input(\"Enter temperature in celcius: \"))\n",
    "\n",
    "temp_romer = temp_celcius * 0.8\n",
    "temp_farenheit = temp_celcius*1.8 + 32\n",
    "temp_kelvin = temp_celcius + 273\n",
    "\n",
    "print(\"C =\", temp_celcius)\n",
    "print(\"F =\", temp_farenheit)\n",
    "print(\"R =\", temp_romer)\n",
    "print(\"K =\", temp_kelvin)"
   ]
  },
  {
   "cell_type": "markdown",
   "metadata": {},
   "source": [
    "## Maths Functions"
   ]
  },
  {
   "cell_type": "code",
   "execution_count": 42,
   "metadata": {},
   "outputs": [
    {
     "data": {
      "text/plain": [
       "1.0"
      ]
     },
     "execution_count": 42,
     "metadata": {},
     "output_type": "execute_result"
    }
   ],
   "source": [
    "abs(-13)\n",
    "abs(-12.45)\n",
    "abs(-1.0)"
   ]
  },
  {
   "cell_type": "code",
   "execution_count": 44,
   "metadata": {},
   "outputs": [
    {
     "data": {
      "text/plain": [
       "-2"
      ]
     },
     "execution_count": 44,
     "metadata": {},
     "output_type": "execute_result"
    }
   ],
   "source": [
    "max(23, 5, -2, 0)\n",
    "min(23, 5, -2, 0)"
   ]
  },
  {
   "cell_type": "code",
   "execution_count": 48,
   "metadata": {},
   "outputs": [
    {
     "data": {
      "text/plain": [
       "1000"
      ]
     },
     "execution_count": 48,
     "metadata": {},
     "output_type": "execute_result"
    }
   ],
   "source": [
    "round(2.45, 1)\n",
    "round(-1.2563, 3)\n",
    "round(986, -2)\n",
    "# 94 -> 90"
   ]
  },
  {
   "cell_type": "markdown",
   "metadata": {},
   "source": [
    "## Turtle Library"
   ]
  },
  {
   "cell_type": "code",
   "execution_count": 51,
   "metadata": {},
   "outputs": [],
   "source": [
    "# importing library\n",
    "import turtle"
   ]
  }
 ],
 "metadata": {
  "kernelspec": {
   "display_name": "hs_teaching_env",
   "language": "python",
   "name": "python3"
  },
  "language_info": {
   "codemirror_mode": {
    "name": "ipython",
    "version": 3
   },
   "file_extension": ".py",
   "mimetype": "text/x-python",
   "name": "python",
   "nbconvert_exporter": "python",
   "pygments_lexer": "ipython3",
   "version": "3.12.4"
  }
 },
 "nbformat": 4,
 "nbformat_minor": 2
}
