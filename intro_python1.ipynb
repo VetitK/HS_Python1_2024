{
 "cells": [
  {
   "cell_type": "markdown",
   "metadata": {},
   "source": [
    "## Commenting"
   ]
  },
  {
   "cell_type": "code",
   "execution_count": 7,
   "metadata": {},
   "outputs": [
    {
     "name": "stdout",
     "output_type": "stream",
     "text": [
      "hello\n",
      "from the other sideeeee\n"
     ]
    },
    {
     "data": {
      "text/plain": [
       "'\\nmultiline comment\\nmultiline comment2\\n'"
      ]
     },
     "execution_count": 7,
     "metadata": {},
     "output_type": "execute_result"
    }
   ],
   "source": [
    "print(\"hello\") # in-line comment\n",
    "print(\"from the other sideeeee\")\n",
    "\n",
    "\"\"\"\n",
    "multiline comment\n",
    "multiline comment2\n",
    "multiline comment2\n",
    "multiline comment2\n",
    "multiline comment2\n",
    "multiline comment2\n",
    "\"\"\""
   ]
  },
  {
   "cell_type": "code",
   "execution_count": 14,
   "metadata": {},
   "outputs": [
    {
     "name": "stdout",
     "output_type": "stream",
     "text": [
      "Hello world\n",
      "Hello World ! 123\n",
      "Hello-World-!-123\n",
      "Hello\n",
      "World\n",
      "!\n",
      "123\n"
     ]
    }
   ],
   "source": [
    "print(\"Hello world\")\n",
    "print(\"Hello\", \"World\", \"!\", \"123\")\n",
    "print(\"Hello\", \"World\", \"!\", \"123\", sep=\"-\")\n",
    "print(\"Hello\", \"World\", \"!\", \"123\", sep=\"\\n\")"
   ]
  },
  {
   "cell_type": "markdown",
   "metadata": {},
   "source": [
    "## Data type"
   ]
  },
  {
   "cell_type": "markdown",
   "metadata": {},
   "source": [
    "1. integer - int\n",
    "2. floating point - float\n",
    "3. string - str\n",
    "4. boolean - bool\n",
    "5. Nonetype - None"
   ]
  },
  {
   "cell_type": "code",
   "execution_count": 17,
   "metadata": {},
   "outputs": [
    {
     "data": {
      "text/plain": [
       "(1.5, -2.4, 3.14, 0.0)"
      ]
     },
     "execution_count": 17,
     "metadata": {},
     "output_type": "execute_result"
    }
   ],
   "source": [
    "# int\n",
    "1, 2, 0, -1, -5, -0\n",
    "int()\n",
    "\n",
    "# float\n",
    "1.5, -2.4, 3.14, 0.0000000000000000000000\n",
    "float()\n",
    "\n",
    "# string\n",
    "\"dfldsojghdfoiujjfdsojcsalk9045u40iofndlj\"\n",
    "'fldsn≤fdsnmfdnjsjdd'\n",
    "\"\"\"\n",
    "fdslfjlkds\n",
    "fdslnfljds\n",
    "fndaknjfdlfue83y8\n",
    "\"\"\"\n",
    "str()\n",
    "\n",
    "# boolean\n",
    "True, False\n",
    "bool()\n",
    "\n",
    "# Nonetype\n",
    "None"
   ]
  },
  {
   "cell_type": "markdown",
   "metadata": {},
   "source": [
    "## Type Checking"
   ]
  },
  {
   "cell_type": "code",
   "execution_count": 22,
   "metadata": {},
   "outputs": [
    {
     "name": "stdout",
     "output_type": "stream",
     "text": [
      "<class 'float'>\n"
     ]
    },
    {
     "data": {
      "text/plain": [
       "False"
      ]
     },
     "execution_count": 22,
     "metadata": {},
     "output_type": "execute_result"
    }
   ],
   "source": [
    "print(type(0.0))\n",
    "\n",
    "isinstance(-1, int)"
   ]
  },
  {
   "cell_type": "code",
   "execution_count": 25,
   "metadata": {},
   "outputs": [
    {
     "data": {
      "text/plain": [
       "True"
      ]
     },
     "execution_count": 25,
     "metadata": {},
     "output_type": "execute_result"
    }
   ],
   "source": [
    "isinstance(False, int)"
   ]
  },
  {
   "cell_type": "code",
   "execution_count": null,
   "metadata": {},
   "outputs": [],
   "source": []
  }
 ],
 "metadata": {
  "kernelspec": {
   "display_name": "hs_teaching_env",
   "language": "python",
   "name": "python3"
  },
  "language_info": {
   "codemirror_mode": {
    "name": "ipython",
    "version": 3
   },
   "file_extension": ".py",
   "mimetype": "text/x-python",
   "name": "python",
   "nbconvert_exporter": "python",
   "pygments_lexer": "ipython3",
   "version": "3.12.4"
  }
 },
 "nbformat": 4,
 "nbformat_minor": 2
}
